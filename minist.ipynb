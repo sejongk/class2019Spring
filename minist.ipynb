{
 "cells": [
  {
   "cell_type": "code",
   "execution_count": 17,
   "metadata": {},
   "outputs": [],
   "source": [
    "# TensorFlow and tf.keras\n",
    "import tensorflow as tf\n",
    "\n",
    "# Helper libraries\n",
    "import numpy as np\n",
    "import matplotlib.pyplot as plt\n",
    "\n",
    "mnist = tf.keras.datasets.mnist\n",
    "\n",
    "(x_train, y_train),(x_test, y_test) = mnist.load_data() #train과 test set으로 나눠진다."
   ]
  },
  {
   "cell_type": "markdown",
   "metadata": {},
   "source": [
    "# Normalize"
   ]
  },
  {
   "cell_type": "markdown",
   "metadata": {},
   "source": [
    "#### 현재 x값들은 min: 0, max: 255 사이의 값을 가진다. 255로 나눠 0~1의 범위의 값을 갖도록 한다."
   ]
  },
  {
   "cell_type": "code",
   "execution_count": 18,
   "metadata": {},
   "outputs": [],
   "source": [
    "x_train, x_test = x_train / 255.0, x_test / 255.0 # normalize"
   ]
  },
  {
   "cell_type": "code",
   "execution_count": 19,
   "metadata": {
    "scrolled": true
   },
   "outputs": [
    {
     "data": {
      "text/plain": [
       "(60000, 28, 28)"
      ]
     },
     "execution_count": 19,
     "metadata": {},
     "output_type": "execute_result"
    }
   ],
   "source": [
    "x_train.shape # 28*28 pixcel??"
   ]
  },
  {
   "cell_type": "code",
   "execution_count": 20,
   "metadata": {},
   "outputs": [
    {
     "data": {
      "text/plain": [
       "(60000,)"
      ]
     },
     "execution_count": 20,
     "metadata": {},
     "output_type": "execute_result"
    }
   ],
   "source": [
    "y_train.shape\n",
    "#x_test 개수 = y_test개수, x_train 개수 = y_train 개수"
   ]
  },
  {
   "cell_type": "markdown",
   "metadata": {},
   "source": [
    "## Target 값(숫자 0~9 class)"
   ]
  },
  {
   "cell_type": "code",
   "execution_count": 21,
   "metadata": {
    "scrolled": true
   },
   "outputs": [
    {
     "name": "stdout",
     "output_type": "stream",
     "text": [
      "5\n",
      "0\n",
      "4\n",
      "1\n",
      "9\n",
      "2\n",
      "1\n",
      "3\n",
      "1\n",
      "4\n"
     ]
    }
   ],
   "source": [
    "for a in range(10):\n",
    "    print(y_train[a]) #target값"
   ]
  },
  {
   "cell_type": "markdown",
   "metadata": {},
   "source": [
    "## 데이터값 -> plot"
   ]
  },
  {
   "cell_type": "code",
   "execution_count": 22,
   "metadata": {
    "scrolled": false
   },
   "outputs": [
    {
     "data": {
      "image/png": "[encoded data removed]",
      "text/plain": [
       "<Figure size 720x720 with 25 Axes>"
      ]
     },
     "metadata": {},
     "output_type": "display_data"
    }
   ],
   "source": [
    "plt.figure(figsize=(10,10))\n",
    "for i in range(25):\n",
    "    plt.subplot(5,5,i+1)\n",
    "    plt.xticks([])\n",
    "    plt.yticks([])\n",
    "    plt.imshow(x_train[i], cmap=plt.cm.binary)\n",
    "plt.show()"
   ]
  },
  {
   "cell_type": "markdown",
   "metadata": {},
   "source": [
    "#### xticks의 인수를 공집합으로 주어서 x축이 표시되지 않게 함\n",
    "#### x, y값 각각 0~27, 28개의 범위의 값을 가짐"
   ]
  },
  {
   "cell_type": "code",
   "execution_count": 23,
   "metadata": {},
   "outputs": [
    {
     "data": {
      "image/png": "[encoded data removed]",
      "text/plain": [
       "<Figure size 720x720 with 1 Axes>"
      ]
     },
     "metadata": {
      "needs_background": "light"
     },
     "output_type": "display_data"
    }
   ],
   "source": [
    "plt.figure(figsize=(10,10))\n",
    "for i in range(1):\n",
    "    plt.subplot(10,10,i+1)\n",
    "    plt.xticks([0,27])\n",
    "    plt.yticks([])\n",
    "    plt.imshow(x_train[i], cmap=plt.cm.binary) #cmap=plt.cm.binary??\n",
    "plt.show()"
   ]
  },
  {
   "cell_type": "markdown",
   "metadata": {},
   "source": [
    "#### Flatten: input은 이미지로, 28 by 28 matrix인데 layer의 노드는 vector이다. 28*28로 쭉 이어서  matrix -> vector(1*784)\n",
    "#### Dense : 노드 512+1 = 513개, relu 설정\n",
    "## Dropout: 입력된 퍼센트값에 맞는 비율로 노드 간 연결을 끊는다(화살표를 끊는다)\n",
    "#### Dense: output layer 노드 10개? 11개? softmax로 해서 classification으로 바꿔준다"
   ]
  },
  {
   "cell_type": "code",
   "execution_count": 24,
   "metadata": {},
   "outputs": [
    {
     "name": "stdout",
     "output_type": "stream",
     "text": [
      "WARNING:tensorflow:From C:\\ProgramData\\Anaconda3\\lib\\site-packages\\tensorflow\\python\\ops\\resource_variable_ops.py:435: colocate_with (from tensorflow.python.framework.ops) is deprecated and will be removed in a future version.\n",
      "Instructions for updating:\n",
      "Colocations handled automatically by placer.\n",
      "WARNING:tensorflow:From C:\\ProgramData\\Anaconda3\\lib\\site-packages\\tensorflow\\python\\keras\\layers\\core.py:143: calling dropout (from tensorflow.python.ops.nn_ops) with keep_prob is deprecated and will be removed in a future version.\n",
      "Instructions for updating:\n",
      "Please use `rate` instead of `keep_prob`. Rate should be set to `rate = 1 - keep_prob`.\n"
     ]
    }
   ],
   "source": [
    "img_rows = 28\n",
    "img_cols = 28\n",
    "\n",
    "model = tf.keras.models.Sequential([\n",
    "  tf.keras.layers.Flatten(input_shape=(img_rows, img_cols)), \n",
    "    #input layer의 노드 수는 28*28 (!! 28*28+1 아님! input layer라서 아님!) =>?????????\n",
    "  tf.keras.layers.Dense(512, activation=tf.nn.relu), # relu\n",
    "  tf.keras.layers.Dropout(0.2), \n",
    "    # Dropout 0보다 크고 1보다 작은 수를 넣는다. 화살표를 자른다. 모든 화살표들 중 20%를 자른다.\n",
    "  tf.keras.layers.Dense(10, activation=tf.nn.softmax) \n",
    "    # softmax\n",
    "    #output layer의 노드 수는 10개 class의 개수와 일치\n",
    "])"
   ]
  },
  {
   "cell_type": "code",
   "execution_count": 25,
   "metadata": {},
   "outputs": [
    {
     "name": "stdout",
     "output_type": "stream",
     "text": [
      "_________________________________________________________________\n",
      "Layer (type)                 Output Shape              Param #   \n",
      "=================================================================\n",
      "flatten (Flatten)            (None, 784)               0         \n",
      "_________________________________________________________________\n",
      "dense (Dense)                (None, 512)               401920    \n",
      "_________________________________________________________________\n",
      "dropout (Dropout)            (None, 512)               0         \n",
      "_________________________________________________________________\n",
      "dense_1 (Dense)              (None, 10)                5130      \n",
      "=================================================================\n",
      "Total params: 407,050\n",
      "Trainable params: 407,050\n",
      "Non-trainable params: 0\n",
      "_________________________________________________________________\n"
     ]
    }
   ],
   "source": [
    "# Take a look at the model summary\n",
    "model.summary()\n",
    "# 785(784+1) * 512 = 401920\n",
    "# 5130 = 513(512+1) * 10"
   ]
  },
  {
   "cell_type": "code",
   "execution_count": 5,
   "metadata": {},
   "outputs": [],
   "source": [
    "model.compile(optimizer='adam',\n",
    "              loss='sparse_categorical_crossentropy',\n",
    "              metrics=['accuracy'])"
   ]
  },
  {
   "cell_type": "code",
   "execution_count": 6,
   "metadata": {},
   "outputs": [
    {
     "name": "stdout",
     "output_type": "stream",
     "text": [
      "60000/60000 [==============================] - 29s 482us/sample - loss: 0.2186 - acc: 0.9356\n",
      "10000/10000 [==============================] - 2s 166us/sample - loss: 0.1029 - acc: 0.9682\n"
     ]
    },
    {
     "data": {
      "text/plain": [
       "[0.10286968237534165, 0.9682]"
      ]
     },
     "execution_count": 6,
     "metadata": {},
     "output_type": "execute_result"
    }
   ],
   "source": [
    "model.fit(x_train, y_train, epochs=1) # acc 표시됨\n",
    "model.evaluate(x_test, y_test)"
   ]
  },
  {
   "cell_type": "code",
   "execution_count": 7,
   "metadata": {},
   "outputs": [],
   "source": [
    "from IPython.display import HTML"
   ]
  },
  {
   "cell_type": "code",
   "execution_count": 8,
   "metadata": {},
   "outputs": [],
   "source": [
    "input_form = \"\"\"\n",
    "\n",
    "<table>\n",
    "\n",
    "<td style=\"border-style: none;\">\n",
    "\n",
    "<div style=\"border: solid 2px #666; width: 143px; height: 144px;\">\n",
    "\n",
    "<canvas width=\"140\" height=\"140\"></canvas>\n",
    "\n",
    "</div></td>\n",
    "\n",
    "<td style=\"border-style: none;\">\n",
    "\n",
    "<button onclick=\"clear_value()\">Clear</button>\n",
    "\n",
    "</td>\n",
    "\n",
    "</table>\n",
    "\n",
    "\"\"\"\n",
    "\n",
    "\n",
    "\n",
    "javascript = \"\"\"\n",
    "\n",
    "<script type=\"text/Javascript\">\n",
    "\n",
    "    var pixels = [];\n",
    "\n",
    "    for (var i = 0; i < 28*28; i++) pixels[i] = 0\n",
    "\n",
    "    var click = 0;\n",
    "\n",
    "\n",
    "\n",
    "    var canvas = document.querySelector(\"canvas\");\n",
    "\n",
    "    canvas.addEventListener(\"mousemove\", function(e){\n",
    "\n",
    "        if (e.buttons == 1) {\n",
    "\n",
    "            click = 1;\n",
    "\n",
    "            canvas.getContext(\"2d\").fillStyle = \"rgb(0,0,0)\";\n",
    "\n",
    "            canvas.getContext(\"2d\").fillRect(e.offsetX, e.offsetY, 8, 8);\n",
    "\n",
    "            x = Math.floor(e.offsetY * 0.2)\n",
    "\n",
    "            y = Math.floor(e.offsetX * 0.2) + 1\n",
    "\n",
    "            for (var dy = 0; dy < 2; dy++){\n",
    "\n",
    "                for (var dx = 0; dx < 2; dx++){\n",
    "\n",
    "                    if ((x + dx < 28) && (y + dy < 28)){\n",
    "\n",
    "                        pixels[(y+dy)+(x+dx)*28] = 1\n",
    "\n",
    "                    }\n",
    "\n",
    "                }\n",
    "\n",
    "            }\n",
    "\n",
    "        } else {\n",
    "\n",
    "            if (click == 1) set_value()\n",
    "\n",
    "            click = 0;\n",
    "\n",
    "        }\n",
    "\n",
    "    });\n",
    "\n",
    "    \n",
    "\n",
    "    function set_value(){\n",
    "\n",
    "        var result = \"\"\n",
    "\n",
    "        for (var i = 0; i < 28*28; i++) result += pixels[i] + \",\"\n",
    "\n",
    "        var kernel = IPython.notebook.kernel;\n",
    "\n",
    "        kernel.execute(\"image = [\" + result + \"]\");\n",
    "\n",
    "    }\n",
    "\n",
    "    \n",
    "\n",
    "    function clear_value(){\n",
    "\n",
    "        canvas.getContext(\"2d\").fillStyle = \"rgb(255,255,255)\";\n",
    "\n",
    "        canvas.getContext(\"2d\").fillRect(0, 0, 140, 140);\n",
    "\n",
    "        for (var i = 0; i < 28*28; i++) pixels[i] = 0\n",
    "\n",
    "    }\n",
    "\n",
    "</script>\n",
    "\n",
    "\"\"\""
   ]
  },
  {
   "cell_type": "code",
   "execution_count": 13,
   "metadata": {},
   "outputs": [
    {
     "data": {
      "text/html": [
       "\n",
       "\n",
       "<table>\n",
       "\n",
       "<td style=\"border-style: none;\">\n",
       "\n",
       "<div style=\"border: solid 2px #666; width: 143px; height: 144px;\">\n",
       "\n",
       "<canvas width=\"140\" height=\"140\"></canvas>\n",
       "\n",
       "</div></td>\n",
       "\n",
       "<td style=\"border-style: none;\">\n",
       "\n",
       "<button onclick=\"clear_value()\">Clear</button>\n",
       "\n",
       "</td>\n",
       "\n",
       "</table>\n",
       "\n",
       "\n",
       "\n",
       "<script type=\"text/Javascript\">\n",
       "\n",
       "    var pixels = [];\n",
       "\n",
       "    for (var i = 0; i < 28*28; i++) pixels[i] = 0\n",
       "\n",
       "    var click = 0;\n",
       "\n",
       "\n",
       "\n",
       "    var canvas = document.querySelector(\"canvas\");\n",
       "\n",
       "    canvas.addEventListener(\"mousemove\", function(e){\n",
       "\n",
       "        if (e.buttons == 1) {\n",
       "\n",
       "            click = 1;\n",
       "\n",
       "            canvas.getContext(\"2d\").fillStyle = \"rgb(0,0,0)\";\n",
       "\n",
       "            canvas.getContext(\"2d\").fillRect(e.offsetX, e.offsetY, 8, 8);\n",
       "\n",
       "            x = Math.floor(e.offsetY * 0.2)\n",
       "\n",
       "            y = Math.floor(e.offsetX * 0.2) + 1\n",
       "\n",
       "            for (var dy = 0; dy < 2; dy++){\n",
       "\n",
       "                for (var dx = 0; dx < 2; dx++){\n",
       "\n",
       "                    if ((x + dx < 28) && (y + dy < 28)){\n",
       "\n",
       "                        pixels[(y+dy)+(x+dx)*28] = 1\n",
       "\n",
       "                    }\n",
       "\n",
       "                }\n",
       "\n",
       "            }\n",
       "\n",
       "        } else {\n",
       "\n",
       "            if (click == 1) set_value()\n",
       "\n",
       "            click = 0;\n",
       "\n",
       "        }\n",
       "\n",
       "    });\n",
       "\n",
       "    \n",
       "\n",
       "    function set_value(){\n",
       "\n",
       "        var result = \"\"\n",
       "\n",
       "        for (var i = 0; i < 28*28; i++) result += pixels[i] + \",\"\n",
       "\n",
       "        var kernel = IPython.notebook.kernel;\n",
       "\n",
       "        kernel.execute(\"image = [\" + result + \"]\");\n",
       "\n",
       "    }\n",
       "\n",
       "    \n",
       "\n",
       "    function clear_value(){\n",
       "\n",
       "        canvas.getContext(\"2d\").fillStyle = \"rgb(255,255,255)\";\n",
       "\n",
       "        canvas.getContext(\"2d\").fillRect(0, 0, 140, 140);\n",
       "\n",
       "        for (var i = 0; i < 28*28; i++) pixels[i] = 0\n",
       "\n",
       "    }\n",
       "\n",
       "</script>\n",
       "\n"
      ],
      "text/plain": [
       "<IPython.core.display.HTML object>"
      ]
     },
     "execution_count": 13,
     "metadata": {},
     "output_type": "execute_result"
    }
   ],
   "source": [
    "HTML(input_form + javascript)"
   ]
  },
  {
   "cell_type": "code",
   "execution_count": 27,
   "metadata": {
    "scrolled": true
   },
   "outputs": [
    {
     "data": {
      "text/plain": [
       "<BarContainer object of 10 artists>"
      ]
     },
     "execution_count": 27,
     "metadata": {},
     "output_type": "execute_result"
    },
    {
     "data": {
      "image/png": "[encoded data removed]",
      "text/plain": [
       "<Figure size 432x288 with 1 Axes>"
      ]
     },
     "metadata": {
      "needs_background": "light"
     },
     "output_type": "display_data"
    }
   ],
   "source": [
    "image_3darray = np.array(image).reshape([1,img_rows,img_cols])\n",
    "result = model.predict(image_3darray)\n",
    "plt.bar(list(range(10)), list(result.reshape([10])))"
   ]
  },
  {
   "cell_type": "code",
   "execution_count": 39,
   "metadata": {},
   "outputs": [
    {
     "data": {
      "text/plain": [
       "784"
      ]
     },
     "execution_count": 39,
     "metadata": {},
     "output_type": "execute_result"
    }
   ],
   "source": [
    "28 * 28"
   ]
  },
  {
   "cell_type": "code",
   "execution_count": null,
   "metadata": {},
   "outputs": [],
   "source": []
  }
 ],
 "metadata": {
  "kernelspec": {
   "display_name": "Python 3",
   "language": "python",
   "name": "python3"
  },
  "language_info": {
   "codemirror_mode": {
    "name": "ipython",
    "version": 3
   },
   "file_extension": ".py",
   "mimetype": "text/x-python",
   "name": "python",
   "nbconvert_exporter": "python",
   "pygments_lexer": "ipython3",
   "version": "3.7.1"
  }
 },
 "nbformat": 4,
 "nbformat_minor": 1
}
